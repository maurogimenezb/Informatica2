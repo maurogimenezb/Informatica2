{
 "cells": [
  {
   "cell_type": "code",
   "execution_count": 1,
   "metadata": {},
   "outputs": [],
   "source": [
    "import sympy as sp"
   ]
  },
  {
   "cell_type": "markdown",
   "metadata": {},
   "source": [
    "# 1. Resolución de la ecuación cuadrática:\n"
   ]
  },
  {
   "cell_type": "code",
   "execution_count": 2,
   "metadata": {},
   "outputs": [],
   "source": [
    "a = 1\n",
    "b = -3\n",
    "c = 2"
   ]
  },
  {
   "cell_type": "code",
   "execution_count": 12,
   "metadata": {},
   "outputs": [],
   "source": [
    "# Definir la variable simbólica x\n",
    "\n",
    "x = sp.Symbol('x')\n"
   ]
  },
  {
   "cell_type": "code",
   "execution_count": 13,
   "metadata": {},
   "outputs": [],
   "source": [
    "# Definir la ecuación cuadrática\n",
    "\n",
    "ecuacion = a*x**2 + b*x + c"
   ]
  },
  {
   "cell_type": "code",
   "execution_count": 14,
   "metadata": {},
   "outputs": [
    {
     "name": "stdout",
     "output_type": "stream",
     "text": [
      "Soluciones: [1, 2]\n"
     ]
    }
   ],
   "source": [
    "# Resolver la ecuación cuadrática\n",
    "\n",
    "soluciones = sp.solve(ecuacion, x)\n",
    "print(\"Soluciones:\", soluciones)"
   ]
  },
  {
   "cell_type": "markdown",
   "metadata": {},
   "source": [
    "# 2. Derivada e integral de la función:"
   ]
  },
  {
   "cell_type": "code",
   "execution_count": 15,
   "metadata": {},
   "outputs": [],
   "source": [
    "# Definir la función f(x) = x^2 + 2x + 1\n",
    "\n",
    "f = x**2 + 2*x + 1"
   ]
  },
  {
   "cell_type": "code",
   "execution_count": 16,
   "metadata": {},
   "outputs": [
    {
     "name": "stdout",
     "output_type": "stream",
     "text": [
      "Derivada de f(x): 2*x + 2\n"
     ]
    }
   ],
   "source": [
    "# Calcular la derivada de f(x)\n",
    "\n",
    "derivada = sp.diff(f, x)\n",
    "print(\"Derivada de f(x):\", derivada)"
   ]
  },
  {
   "cell_type": "code",
   "execution_count": 17,
   "metadata": {},
   "outputs": [
    {
     "name": "stdout",
     "output_type": "stream",
     "text": [
      "Integral de f(x): x**3/3 + x**2 + x\n"
     ]
    }
   ],
   "source": [
    "# Calcular la integral de f(x)\n",
    "\n",
    "integral = sp.integrate(f, x)\n",
    "print(\"Integral de f(x):\", integral)"
   ]
  },
  {
   "cell_type": "markdown",
   "metadata": {},
   "source": [
    "# 3. Cálculo de inversa, autovalores y autovectores de una matriz simbólica:\n"
   ]
  },
  {
   "cell_type": "code",
   "execution_count": 18,
   "metadata": {},
   "outputs": [],
   "source": [
    "# Crear una matriz de 3x3 con elementos simbólicos\n",
    "\n",
    "A = sp.Matrix([[1, 2, 3], [4, 5, 6], [7, 8, 10]])"
   ]
  },
  {
   "cell_type": "code",
   "execution_count": 19,
   "metadata": {},
   "outputs": [
    {
     "name": "stdout",
     "output_type": "stream",
     "text": [
      "Inversa de A:\n",
      " Matrix([[-2/3, -4/3, 1], [-2/3, 11/3, -2], [1, -2, 1]])\n"
     ]
    }
   ],
   "source": [
    "# Calcular la inversa de la matriz A\n",
    "\n",
    "inversa_A = A.inv()\n",
    "print(\"Inversa de A:\\n\", inversa_A)"
   ]
  },
  {
   "cell_type": "code",
   "execution_count": 20,
   "metadata": {},
   "outputs": [
    {
     "name": "stdout",
     "output_type": "stream",
     "text": [
      "\n",
      "Autovalores de A: {16/3 + 292/(9*(9839/54 + sqrt(34351)*I/6)**(1/3)) + (9839/54 + sqrt(34351)*I/6)**(1/3): 1, 16/3 + 292/(9*(-1/2 + sqrt(3)*I/2)*(9839/54 + sqrt(34351)*I/6)**(1/3)) + (-1/2 + sqrt(3)*I/2)*(9839/54 + sqrt(34351)*I/6)**(1/3): 1, 16/3 + (-1/2 - sqrt(3)*I/2)*(9839/54 + sqrt(34351)*I/6)**(1/3) + 292/(9*(-1/2 - sqrt(3)*I/2)*(9839/54 + sqrt(34351)*I/6)**(1/3)): 1}\n",
      "\n",
      "Autovectores de A: [(16/3 + (-1/2 - sqrt(3)*I/2)*(9839/54 + sqrt(34351)*I/6)**(1/3) + 292/(9*(-1/2 - sqrt(3)*I/2)*(9839/54 + sqrt(34351)*I/6)**(1/3)), 1, [Matrix([\n",
      "[   1090/99 + 67*(-1/2 - sqrt(3)*I/2)*(9839/54 + sqrt(34351)*I/6)**(1/3)/33 - 4*(16/3 + (-1/2 - sqrt(3)*I/2)*(9839/54 + sqrt(34351)*I/6)**(1/3) + 292/(9*(-1/2 - sqrt(3)*I/2)*(9839/54 + sqrt(34351)*I/6)**(1/3)))**2/33 + 19564/(297*(-1/2 - sqrt(3)*I/2)*(9839/54 + sqrt(34351)*I/6)**(1/3))],\n",
      "[-2023/198 - 15914/(297*(-1/2 - sqrt(3)*I/2)*(9839/54 + sqrt(34351)*I/6)**(1/3)) + 7*(16/3 + (-1/2 - sqrt(3)*I/2)*(9839/54 + sqrt(34351)*I/6)**(1/3) + 292/(9*(-1/2 - sqrt(3)*I/2)*(9839/54 + sqrt(34351)*I/6)**(1/3)))**2/66 - 109*(-1/2 - sqrt(3)*I/2)*(9839/54 + sqrt(34351)*I/6)**(1/3)/66],\n",
      "[                                                                                                                                                                                                                                                                                            1]])]), (16/3 + 292/(9*(-1/2 + sqrt(3)*I/2)*(9839/54 + sqrt(34351)*I/6)**(1/3)) + (-1/2 + sqrt(3)*I/2)*(9839/54 + sqrt(34351)*I/6)**(1/3), 1, [Matrix([\n",
      "[   1090/99 + 19564/(297*(-1/2 + sqrt(3)*I/2)*(9839/54 + sqrt(34351)*I/6)**(1/3)) - 4*(16/3 + 292/(9*(-1/2 + sqrt(3)*I/2)*(9839/54 + sqrt(34351)*I/6)**(1/3)) + (-1/2 + sqrt(3)*I/2)*(9839/54 + sqrt(34351)*I/6)**(1/3))**2/33 + 67*(-1/2 + sqrt(3)*I/2)*(9839/54 + sqrt(34351)*I/6)**(1/3)/33],\n",
      "[-2023/198 - 109*(-1/2 + sqrt(3)*I/2)*(9839/54 + sqrt(34351)*I/6)**(1/3)/66 + 7*(16/3 + 292/(9*(-1/2 + sqrt(3)*I/2)*(9839/54 + sqrt(34351)*I/6)**(1/3)) + (-1/2 + sqrt(3)*I/2)*(9839/54 + sqrt(34351)*I/6)**(1/3))**2/66 - 15914/(297*(-1/2 + sqrt(3)*I/2)*(9839/54 + sqrt(34351)*I/6)**(1/3))],\n",
      "[                                                                                                                                                                                                                                                                                            1]])]), (16/3 + 292/(9*(9839/54 + sqrt(34351)*I/6)**(1/3)) + (9839/54 + sqrt(34351)*I/6)**(1/3), 1, [Matrix([\n",
      "[   1090/99 + 19564/(297*(9839/54 + sqrt(34351)*I/6)**(1/3)) - 4*(16/3 + 292/(9*(9839/54 + sqrt(34351)*I/6)**(1/3)) + (9839/54 + sqrt(34351)*I/6)**(1/3))**2/33 + 67*(9839/54 + sqrt(34351)*I/6)**(1/3)/33],\n",
      "[-2023/198 - 109*(9839/54 + sqrt(34351)*I/6)**(1/3)/66 + 7*(16/3 + 292/(9*(9839/54 + sqrt(34351)*I/6)**(1/3)) + (9839/54 + sqrt(34351)*I/6)**(1/3))**2/66 - 15914/(297*(9839/54 + sqrt(34351)*I/6)**(1/3))],\n",
      "[                                                                                                                                                                                                        1]])])]\n"
     ]
    }
   ],
   "source": [
    "# Calcular autovalores y autovectores de la matriz A\n",
    "\n",
    "autovalores = A.eigenvals()\n",
    "autovectores = A.eigenvects()\n",
    "print(\"\\nAutovalores de A:\", autovalores)\n",
    "print(\"\\nAutovectores de A:\", autovectores)"
   ]
  }
 ],
 "metadata": {
  "kernelspec": {
   "display_name": "Python 3",
   "language": "python",
   "name": "python3"
  },
  "language_info": {
   "codemirror_mode": {
    "name": "ipython",
    "version": 3
   },
   "file_extension": ".py",
   "mimetype": "text/x-python",
   "name": "python",
   "nbconvert_exporter": "python",
   "pygments_lexer": "ipython3",
   "version": "3.12.1"
  }
 },
 "nbformat": 4,
 "nbformat_minor": 2
}
