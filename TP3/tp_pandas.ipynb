{
 "cells": [
  {
   "cell_type": "code",
   "execution_count": 1,
   "metadata": {},
   "outputs": [],
   "source": [
    "import pandas as pd"
   ]
  },
  {
   "cell_type": "markdown",
   "metadata": {},
   "source": [
    "# 1. Descargar y leer el conjunto de datos de Iris en un DataFrame de pandas"
   ]
  },
  {
   "cell_type": "code",
   "execution_count": 2,
   "metadata": {},
   "outputs": [],
   "source": [
    "url = \"https://archive.ics.uci.edu/ml/machine-learning-databases/iris/iris.data\"\n",
    "columnas = ['sepal_length', 'sepal_width', 'petal_length', 'petal_width', 'class']\n",
    "iris_data = pd.read_csv(url, names=columnas)"
   ]
  },
  {
   "cell_type": "markdown",
   "metadata": {},
   "source": [
    "# 2. Análisis exploratorio básico del conjunto de datos de Iris\n"
   ]
  },
  {
   "cell_type": "code",
   "execution_count": 3,
   "metadata": {},
   "outputs": [
    {
     "name": "stdout",
     "output_type": "stream",
     "text": [
      "Análisis Exploratorio Básico:\n",
      "                sepal_length                  sepal_width                   \\\n",
      "                        mean median  min  max        mean median  min  max   \n",
      "class                                                                        \n",
      "Iris-setosa            5.006    5.0  4.3  5.8       3.418    3.4  2.3  4.4   \n",
      "Iris-versicolor        5.936    5.9  4.9  7.0       2.770    2.8  2.0  3.4   \n",
      "Iris-virginica         6.588    6.5  4.9  7.9       2.974    3.0  2.2  3.8   \n",
      "\n",
      "                petal_length                  petal_width                   \n",
      "                        mean median  min  max        mean median  min  max  \n",
      "class                                                                       \n",
      "Iris-setosa            1.464   1.50  1.0  1.9       0.244    0.2  0.1  0.6  \n",
      "Iris-versicolor        4.260   4.35  3.0  5.1       1.326    1.3  1.0  1.8  \n",
      "Iris-virginica         5.552   5.55  4.5  6.9       2.026    2.0  1.4  2.5  \n"
     ]
    }
   ],
   "source": [
    "analisis_exploratorio = iris_data.groupby('class').agg(['mean', 'median', 'min', 'max'])\n",
    "print(\"Análisis Exploratorio Básico:\")\n",
    "print(analisis_exploratorio)"
   ]
  },
  {
   "cell_type": "markdown",
   "metadata": {},
   "source": [
    "# 3. Crear una nueva columna que sea el ratio de la longitud del pétalo y la longitud del sépalo"
   ]
  },
  {
   "cell_type": "code",
   "execution_count": 4,
   "metadata": {},
   "outputs": [],
   "source": [
    "iris_data['petal_sepal_ratio'] = iris_data['petal_length'] / iris_data['sepal_length']"
   ]
  },
  {
   "cell_type": "markdown",
   "metadata": {},
   "source": [
    "# 4. Filtrar el conjunto de datos para mostrar solo las filas con ciertas condiciones"
   ]
  },
  {
   "cell_type": "code",
   "execution_count": 5,
   "metadata": {},
   "outputs": [
    {
     "name": "stdout",
     "output_type": "stream",
     "text": [
      "\n",
      "Filas Filtradas:\n",
      "     sepal_length  sepal_width  petal_length  petal_width            class  \\\n",
      "11            4.8          3.4           1.6          0.2      Iris-setosa   \n",
      "24            4.8          3.4           1.9          0.2      Iris-setosa   \n",
      "29            4.7          3.2           1.6          0.2      Iris-setosa   \n",
      "30            4.8          3.1           1.6          0.2      Iris-setosa   \n",
      "57            4.9          2.4           3.3          1.0  Iris-versicolor   \n",
      "106           4.9          2.5           4.5          1.7   Iris-virginica   \n",
      "\n",
      "     petal_sepal_ratio  \n",
      "11            0.333333  \n",
      "24            0.395833  \n",
      "29            0.340426  \n",
      "30            0.333333  \n",
      "57            0.673469  \n",
      "106           0.918367  \n"
     ]
    }
   ],
   "source": [
    "filtro = (iris_data['petal_length'] > 1.5) & (iris_data['sepal_length'] < 5.0)\n",
    "filas_filtradas = iris_data[filtro]\n",
    "print(\"\\nFilas Filtradas:\")\n",
    "print(filas_filtradas)"
   ]
  },
  {
   "cell_type": "markdown",
   "metadata": {},
   "source": [
    "# 5. Crear un diagrama de caja de la distribución de la longitud del pétalo para cada clase de Iris"
   ]
  },
  {
   "cell_type": "code",
   "execution_count": 6,
   "metadata": {},
   "outputs": [
    {
     "data": {
      "text/plain": [
       "<Figure size 1000x600 with 0 Axes>"
      ]
     },
     "metadata": {},
     "output_type": "display_data"
    },
    {
     "data": {
      "image/png": "[encoded data removed]",
      "text/plain": [
       "<Figure size 640x480 with 1 Axes>"
      ]
     },
     "metadata": {},
     "output_type": "display_data"
    }
   ],
   "source": [
    "import matplotlib.pyplot as plt\n",
    "plt.figure(figsize=(10, 6))\n",
    "iris_data.boxplot(column='petal_length', by='class')\n",
    "plt.title('Distribución de la Longitud del Pétalo por Clase')\n",
    "plt.ylabel('Longitud del Pétalo')\n",
    "plt.xlabel('Clase de Iris')\n",
    "plt.suptitle('')\n",
    "plt.show()"
   ]
  },
  {
   "cell_type": "code",
   "execution_count": null,
   "metadata": {},
   "outputs": [],
   "source": []
  }
 ],
 "metadata": {
  "kernelspec": {
   "display_name": "Python 3",
   "language": "python",
   "name": "python3"
  },
  "language_info": {
   "codemirror_mode": {
    "name": "ipython",
    "version": 3
   },
   "file_extension": ".py",
   "mimetype": "text/x-python",
   "name": "python",
   "nbconvert_exporter": "python",
   "pygments_lexer": "ipython3",
   "version": "3.12.1"
  }
 },
 "nbformat": 4,
 "nbformat_minor": 2
}
