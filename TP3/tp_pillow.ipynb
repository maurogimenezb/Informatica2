{
 "cells": [
  {
   "cell_type": "code",
   "execution_count": 1,
   "metadata": {},
   "outputs": [],
   "source": [
    "from PIL import Image\n",
    "import numpy as np"
   ]
  },
  {
   "cell_type": "markdown",
   "metadata": {},
   "source": [
    "# 1. Reducción de intensidad de colores en una imagen:\n"
   ]
  },
  {
   "cell_type": "code",
   "execution_count": 2,
   "metadata": {},
   "outputs": [],
   "source": [
    "## Abrir una imagen y convertirla en un array de numpy\n",
    "\n",
    "imagen = Image.open('mosaico.jpg')\n",
    "array_imagen = np.array(imagen)"
   ]
  },
  {
   "cell_type": "code",
   "execution_count": 3,
   "metadata": {},
   "outputs": [],
   "source": [
    "# Operación de reducción de intensidad de colores\n",
    "\n",
    "array_imagen_nueva = array_imagen * 0.5"
   ]
  },
  {
   "cell_type": "code",
   "execution_count": 4,
   "metadata": {},
   "outputs": [],
   "source": [
    "# Convertir el array de numpy de vuelta a imagen y guardarla\n",
    "\n",
    "imagen_nueva = Image.fromarray(array_imagen_nueva.astype(np.uint8))\n",
    "imagen_nueva.save('mosaico_nueva.jpg')"
   ]
  },
  {
   "cell_type": "markdown",
   "metadata": {},
   "source": [
    "# 2. Aplicación de un filtro de borde a una imagen:\n"
   ]
  },
  {
   "cell_type": "code",
   "execution_count": 5,
   "metadata": {},
   "outputs": [],
   "source": [
    "from PIL import ImageFilter"
   ]
  },
  {
   "cell_type": "code",
   "execution_count": 6,
   "metadata": {},
   "outputs": [],
   "source": [
    "# Abrir una imagen y convertirla en un array de numpy\n",
    "imagen = Image.open('mosaico.jpg')\n",
    "array_imagen = np.array(imagen)"
   ]
  },
  {
   "cell_type": "code",
   "execution_count": 8,
   "metadata": {},
   "outputs": [],
   "source": [
    "# Aplicar un filtro de borde a la imagen usando scipy\n",
    "from scipy.ndimage import sobel\n",
    "array_imagen_filtrada = sobel(array_imagen)"
   ]
  },
  {
   "cell_type": "code",
   "execution_count": 9,
   "metadata": {},
   "outputs": [],
   "source": [
    "# Convertir el array de numpy de vuelta a imagen y guardar\n",
    "imagen_filtrada = Image.fromarray(array_imagen_filtrada.astype(np.uint8))\n",
    "imagen_filtrada.save('mosaico_filtrada.jpg')"
   ]
  },
  {
   "cell_type": "markdown",
   "metadata": {},
   "source": [
    "# 3. Combinación de dos imágenes para crear una nueva imagen:\n"
   ]
  },
  {
   "cell_type": "code",
   "execution_count": 15,
   "metadata": {},
   "outputs": [],
   "source": [
    "# Abrir dos imágenes y convertirlas en arrays de numpy\n",
    "imagen1 = Image.open('mosaico.jpg')\n",
    "array_imagen1 = np.array(imagen1)\n",
    "\n",
    "imagen2 = Image.open('mosaico_filtrada.jpg')\n",
    "array_imagen2 = np.array(imagen2)"
   ]
  },
  {
   "cell_type": "code",
   "execution_count": 16,
   "metadata": {},
   "outputs": [],
   "source": [
    "# Combinar las dos imágenes promediando los valores de los píxeles\n",
    "array_imagen_combinada = (array_imagen1 + array_imagen2) // 2"
   ]
  },
  {
   "cell_type": "code",
   "execution_count": 18,
   "metadata": {},
   "outputs": [],
   "source": [
    "# Convertir el array de numpy de vuelta a imagen y guardar\n",
    "imagen_combinada = Image.fromarray(array_imagen_combinada.astype(np.uint8))\n",
    "imagen_combinada.save('mosaico_combinada.jpg')"
   ]
  },
  {
   "cell_type": "code",
   "execution_count": null,
   "metadata": {},
   "outputs": [],
   "source": []
  }
 ],
 "metadata": {
  "kernelspec": {
   "display_name": "Python 3",
   "language": "python",
   "name": "python3"
  },
  "language_info": {
   "codemirror_mode": {
    "name": "ipython",
    "version": 3
   },
   "file_extension": ".py",
   "mimetype": "text/x-python",
   "name": "python",
   "nbconvert_exporter": "python",
   "pygments_lexer": "ipython3",
   "version": "3.12.1"
  }
 },
 "nbformat": 4,
 "nbformat_minor": 2
}
