{
 "cells": [
  {
   "cell_type": "code",
   "execution_count": 16,
   "metadata": {},
   "outputs": [],
   "source": [
    "import numpy as np"
   ]
  },
  {
   "cell_type": "markdown",
   "metadata": {},
   "source": [
    "# 1. Creo los 2 arrays con valores aleatorios"
   ]
  },
  {
   "cell_type": "code",
   "execution_count": 3,
   "metadata": {},
   "outputs": [],
   "source": [
    "array1 = np.random.rand(3, 3)\n",
    "array2 = np.random.rand(3, 3)"
   ]
  },
  {
   "cell_type": "code",
   "execution_count": 17,
   "metadata": {},
   "outputs": [],
   "source": [
    "# Suma de array\n",
    "\n",
    "suma = array1 + array2"
   ]
  },
  {
   "cell_type": "code",
   "execution_count": 18,
   "metadata": {},
   "outputs": [],
   "source": [
    "# Resta de arrays\n",
    "\n",
    "resta = array1 - array2"
   ]
  },
  {
   "cell_type": "code",
   "execution_count": 19,
   "metadata": {},
   "outputs": [],
   "source": [
    "# Multiplicación de arrays\n",
    "\n",
    "multiplicacion = array1 * array2"
   ]
  },
  {
   "cell_type": "code",
   "execution_count": 21,
   "metadata": {},
   "outputs": [],
   "source": [
    "# División de arrays\n",
    "# Se añade un pequeño valor para evitar división por cero\n",
    "\n",
    "divisor = array2 + 0.0001\n",
    "division = array1 / divisor"
   ]
  },
  {
   "cell_type": "code",
   "execution_count": 22,
   "metadata": {},
   "outputs": [],
   "source": [
    "# Transpuesta de los arrays\n",
    "\n",
    "transpuesta1 = array1.T\n",
    "transpuesta2 = array2.T"
   ]
  },
  {
   "cell_type": "code",
   "execution_count": 23,
   "metadata": {},
   "outputs": [],
   "source": [
    "# Determinante de los arrays\n",
    "\n",
    "determinante1 = np.linalg.det(array1)\n",
    "determinante2 = np.linalg.det(array2)"
   ]
  },
  {
   "cell_type": "markdown",
   "metadata": {},
   "source": [
    "# 2. Crear un array de 100 elementos con valores del 1 al 100 y cambiar su forma a 10x10"
   ]
  },
  {
   "cell_type": "code",
   "execution_count": 11,
   "metadata": {},
   "outputs": [],
   "source": [
    "array3 = np.arange(1, 101).reshape(10, 10)"
   ]
  },
  {
   "cell_type": "code",
   "execution_count": 24,
   "metadata": {},
   "outputs": [],
   "source": [
    "# Extraer elementos en las posiciones impares\n",
    "\n",
    "elementos_impares = array3[::2, ::2]\n"
   ]
  },
  {
   "cell_type": "markdown",
   "metadata": {},
   "source": [
    "# 3. Generar un array de 1000 números aleatorios siguiendo una distribución normal\n"
   ]
  },
  {
   "cell_type": "code",
   "execution_count": 13,
   "metadata": {},
   "outputs": [],
   "source": [
    "array4 = np.random.normal(size=1000)"
   ]
  },
  {
   "cell_type": "code",
   "execution_count": 25,
   "metadata": {},
   "outputs": [],
   "source": [
    "# Calcular la media, mediana, desviación estándar y percentil 90 de los datos\n",
    "\n",
    "media = np.mean(array4)\n",
    "mediana = np.median(array4)\n",
    "desviacion_estandar = np.std(array4)\n",
    "percentil_90 = np.percentile(array4, 90)"
   ]
  },
  {
   "cell_type": "markdown",
   "metadata": {},
   "source": [
    "# Imprimir resultados"
   ]
  },
  {
   "cell_type": "code",
   "execution_count": 15,
   "metadata": {},
   "outputs": [
    {
     "name": "stdout",
     "output_type": "stream",
     "text": [
      "Suma:\n",
      " [[1.23629926 1.72869764 1.13419344]\n",
      " [1.49399095 0.59848422 0.9831915 ]\n",
      " [0.99473654 1.33875933 1.11331767]]\n",
      "\n",
      "Resta:\n",
      " [[ 0.04617417  0.13558521 -0.6467797 ]\n",
      " [-0.12933738 -0.49473054  0.92482359]\n",
      " [ 0.20920766 -0.54938374 -0.24632978]]\n",
      "\n",
      "Multiplicación:\n",
      " [[0.38157595 0.74250304 0.21701769]\n",
      " [0.5538202  0.02835626 0.02784171]\n",
      " [0.23643324 0.37261351 0.29469947]]\n",
      "\n",
      "División:\n",
      " [[ 1.07741444  1.17006735  0.27364759]\n",
      " [ 0.84054805  0.09488959 32.57782323]\n",
      " [ 1.53226415  0.41802551  0.63756261]]\n",
      "\n",
      "Transpuesta 1:\n",
      " [[0.64123672 0.68232678 0.6019721 ]\n",
      " [0.93214143 0.05187684 0.39468779]\n",
      " [0.24370687 0.95400754 0.43349395]]\n",
      "\n",
      "Transpuesta 2:\n",
      " [[0.59506254 0.81166416 0.39276444]\n",
      " [0.79655621 0.54660738 0.94407154]\n",
      " [0.89048657 0.02918396 0.67982373]]\n",
      "\n",
      "Determinante 1: 0.09059601452673378\n",
      "Determinante 2: 0.265503657237378\n",
      "\n",
      "Array original:\n",
      " [[  1   2   3   4   5   6   7   8   9  10]\n",
      " [ 11  12  13  14  15  16  17  18  19  20]\n",
      " [ 21  22  23  24  25  26  27  28  29  30]\n",
      " [ 31  32  33  34  35  36  37  38  39  40]\n",
      " [ 41  42  43  44  45  46  47  48  49  50]\n",
      " [ 51  52  53  54  55  56  57  58  59  60]\n",
      " [ 61  62  63  64  65  66  67  68  69  70]\n",
      " [ 71  72  73  74  75  76  77  78  79  80]\n",
      " [ 81  82  83  84  85  86  87  88  89  90]\n",
      " [ 91  92  93  94  95  96  97  98  99 100]]\n",
      "\n",
      "Elementos en posiciones impares:\n",
      " [[ 1  3  5  7  9]\n",
      " [21 23 25 27 29]\n",
      " [41 43 45 47 49]\n",
      " [61 63 65 67 69]\n",
      " [81 83 85 87 89]]\n",
      "\n",
      "Media: -0.02380242573860315\n",
      "Mediana: -0.05873519534313891\n",
      "Desviación estándar: 0.9939491962157374\n",
      "Percentil 90: 1.210607085162648\n"
     ]
    }
   ],
   "source": [
    "print(\"Suma:\\n\", suma)\n",
    "print(\"\\nResta:\\n\", resta)\n",
    "print(\"\\nMultiplicación:\\n\", multiplicacion)\n",
    "print(\"\\nDivisión:\\n\", division)\n",
    "print(\"\\nTranspuesta 1:\\n\", transpuesta1)\n",
    "print(\"\\nTranspuesta 2:\\n\", transpuesta2)\n",
    "print(\"\\nDeterminante 1:\", determinante1)\n",
    "print(\"Determinante 2:\", determinante2)\n",
    "print(\"\\nArray original:\\n\", array3)\n",
    "print(\"\\nElementos en posiciones impares:\\n\", elementos_impares)\n",
    "print(\"\\nMedia:\", media)\n",
    "print(\"Mediana:\", mediana)\n",
    "print(\"Desviación estándar:\", desviacion_estandar)\n",
    "print(\"Percentil 90:\", percentil_90)"
   ]
  }
 ],
 "metadata": {
  "kernelspec": {
   "display_name": "Python 3",
   "language": "python",
   "name": "python3"
  },
  "language_info": {
   "codemirror_mode": {
    "name": "ipython",
    "version": 3
   },
   "file_extension": ".py",
   "mimetype": "text/x-python",
   "name": "python",
   "nbconvert_exporter": "python",
   "pygments_lexer": "ipython3",
   "version": "3.12.1"
  }
 },
 "nbformat": 4,
 "nbformat_minor": 2
}
